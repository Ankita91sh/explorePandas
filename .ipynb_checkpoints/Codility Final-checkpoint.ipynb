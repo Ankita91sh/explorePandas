{
 "cells": [
  {
   "cell_type": "markdown",
   "id": "0fd19f60",
   "metadata": {},
   "source": [
    "# Code to find out the missing integer from an array"
   ]
  },
  {
   "cell_type": "code",
   "execution_count": 1,
   "id": "6a1a3ad2",
   "metadata": {},
   "outputs": [
    {
     "data": {
      "text/plain": [
       "3"
      ]
     },
     "execution_count": 1,
     "metadata": {},
     "output_type": "execute_result"
    }
   ],
   "source": [
    "\n",
    "def solution(A):\n",
    "    # Implement your solution here\n",
    "    A.sort()\n",
    "    A=set(A)\n",
    "    A=list(A)\n",
    "    A=addZero(A)\n",
    "    i=0\n",
    "    counter=0\n",
    "    if max(A)<0:\n",
    "        return(1)\n",
    "    elif A.count(1)==0:\n",
    "        return(1)\n",
    "    else:        \n",
    "         while (i<len(A)-1):\n",
    "            if (A[i]+1==A[i+1]):\n",
    "                counter+=1\n",
    "            else:\n",
    "                return (A[i]+1)\n",
    "            i+=1\n",
    "         if(counter==len(A)-1):\n",
    "                return (A[counter]+1)\n",
    "            \n",
    "def addZero(A):\n",
    "    if A.count(0)==0:\n",
    "        A.append(0)\n",
    "        A.sort()\n",
    "    return A   \n",
    "    \n",
    "    pass\n",
    "solution([1,2,4,5])"
   ]
  },
  {
   "cell_type": "code",
   "execution_count": null,
   "id": "405270c2",
   "metadata": {},
   "outputs": [],
   "source": []
  }
 ],
 "metadata": {
  "kernelspec": {
   "display_name": "Python 3 (ipykernel)",
   "language": "python",
   "name": "python3"
  },
  "language_info": {
   "codemirror_mode": {
    "name": "ipython",
    "version": 3
   },
   "file_extension": ".py",
   "mimetype": "text/x-python",
   "name": "python",
   "nbconvert_exporter": "python",
   "pygments_lexer": "ipython3",
   "version": "3.9.7"
  }
 },
 "nbformat": 4,
 "nbformat_minor": 5
}
