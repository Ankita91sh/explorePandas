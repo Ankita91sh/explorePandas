{
 "cells": [
  {
   "cell_type": "code",
   "execution_count": 5,
   "id": "0808e5d2",
   "metadata": {},
   "outputs": [],
   "source": [
    "import pandas as pd\n",
    "import numpy as np\n",
    "import random"
   ]
  },
  {
   "cell_type": "code",
   "execution_count": 6,
   "id": "4695dc7e",
   "metadata": {},
   "outputs": [],
   "source": [
    "#Returning the succes of an event which is getting 6 in a dice throw\n",
    "def diceResult(i):\n",
    "    if i==6:\n",
    "        return True\n",
    "    else:\n",
    "        return False        "
   ]
  },
  {
   "cell_type": "code",
   "execution_count": 7,
   "id": "ae97bf30",
   "metadata": {},
   "outputs": [],
   "source": [
    "#even turn Anupam-2,4,6...\n",
    "#odd turn Ankita-1,3,5...\n",
    "def turnDecide(turn):\n",
    "    rem=turn%2\n",
    "    if rem==0:\n",
    "        turn=\"Anupam\"\n",
    "    else:\n",
    "        turn=\"Ankita\"\n",
    "    return turn;"
   ]
  },
  {
   "cell_type": "code",
   "execution_count": 8,
   "id": "35553607",
   "metadata": {},
   "outputs": [],
   "source": [
    "#function to randomly generate a number from 1 to 6\n",
    "def diceRoll():\n",
    "    numOnDice=random.randint(1,6)\n",
    "    return numOnDice\n",
    "    "
   ]
  },
  {
   "cell_type": "code",
   "execution_count": 49,
   "id": "1e24265e",
   "metadata": {},
   "outputs": [],
   "source": [
    "#function to create  a probability of winning by a respective candidate when dice is rolled alternatively\n",
    "def probWin(AWInCounter,BWInCounter,totSuccess):    \n",
    "    totSuccess=AWInCounter+BWInCounter\n",
    "    probAWin=AWInCounter/(AWInCounter+BWInCounter)\n",
    "    probBWin=BWInCounter/(AWInCounter+BWInCounter)\n",
    "    return(probAWin,probBWin)\n",
    "   \n",
    "    "
   ]
  },
  {
   "cell_type": "code",
   "execution_count": 54,
   "id": "32d7abc6",
   "metadata": {},
   "outputs": [
    {
     "name": "stdout",
     "output_type": "stream",
     "text": [
      "Probability that Ankita Wins: 0.46511627906976744\n",
      "Probability that Anupam Wins: 0.5348837209302325\n"
     ]
    }
   ],
   "source": [
    "timesRolled=1000# no of times the dice is rolled\n",
    "def main():\n",
    "    AWInCounter=0\n",
    "    BWInCounter=0\n",
    "    totSuccess=0\n",
    "    for i in range(timesRolled):       \n",
    "        numOnDice=diceRoll()\n",
    "        if diceResult(numOnDice):\n",
    "            turn=turnDecide(i)\n",
    "            if(turn=='Ankita'):\n",
    "                AWInCounter+=1\n",
    "            elif(turn=='Anupam'):\n",
    "                BWInCounter+=1\n",
    "    probAWin,probBWin=probWin(AWInCounter,BWInCounter,totSuccess)\n",
    "    print(\"Probability that Ankita Wins:\",probAWin)\n",
    "    print(\"Probability that Anupam Wins:\",probBWin)\n",
    "main()"
   ]
  },
  {
   "cell_type": "code",
   "execution_count": null,
   "id": "a442d660",
   "metadata": {},
   "outputs": [],
   "source": []
  }
 ],
 "metadata": {
  "kernelspec": {
   "display_name": "Python 3 (ipykernel)",
   "language": "python",
   "name": "python3"
  },
  "language_info": {
   "codemirror_mode": {
    "name": "ipython",
    "version": 3
   },
   "file_extension": ".py",
   "mimetype": "text/x-python",
   "name": "python",
   "nbconvert_exporter": "python",
   "pygments_lexer": "ipython3",
   "version": "3.9.7"
  }
 },
 "nbformat": 4,
 "nbformat_minor": 5
}
